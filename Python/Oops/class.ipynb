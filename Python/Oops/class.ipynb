{
 "cells": [
  {
   "cell_type": "code",
   "execution_count": 3,
   "id": "80f25769",
   "metadata": {},
   "outputs": [
    {
     "name": "stdout",
     "output_type": "stream",
     "text": [
      "0\n"
     ]
    }
   ],
   "source": [
    "class Bank:\n",
    "\n",
    "        def __init__(self,accountHolderName,balance=0):\n",
    "                self.accountHolderName = accountHolderName\n",
    "                self.balance = balance\n",
    "\n",
    "\n",
    "\n",
    "\n",
    "user1 = Bank(\"Gopal\")\n",
    "\n",
    "print(user1.balance)"
   ]
  },
  {
   "cell_type": "code",
   "execution_count": null,
   "id": "1321b5af",
   "metadata": {},
   "outputs": [
    {
     "name": "stdout",
     "output_type": "stream",
     "text": [
      "12312\n"
     ]
    },
    {
     "ename": "AttributeError",
     "evalue": "'BankAccount' object has no attribute 'account_number'",
     "output_type": "error",
     "traceback": [
      "\u001b[31m---------------------------------------------------------------------------\u001b[39m",
      "\u001b[31mAttributeError\u001b[39m                            Traceback (most recent call last)",
      "\u001b[36mCell\u001b[39m\u001b[36m \u001b[39m\u001b[32mIn[11]\u001b[39m\u001b[32m, line 14\u001b[39m\n\u001b[32m     11\u001b[39m user2 = BankAccount(\u001b[32m12312\u001b[39m,\u001b[32m12321\u001b[39m)\n\u001b[32m     13\u001b[39m \u001b[38;5;28mprint\u001b[39m(user2.getAccountNumber())\n\u001b[32m---> \u001b[39m\u001b[32m14\u001b[39m \u001b[38;5;28mprint\u001b[39m(\u001b[43muser2\u001b[49m\u001b[43m.\u001b[49m\u001b[43maccount_number\u001b[49m)\n",
      "\u001b[31mAttributeError\u001b[39m: 'BankAccount' object has no attribute 'account_number'"
     ]
    }
   ],
   "source": [
    "class BankAccount:\n",
    "\n",
    "    def __init__(self,__account_number,__balance):\n",
    "        self.__account_number = __account_number\n",
    "        self.__balance = __balance\n",
    "\n",
    "\n",
    "    def getAccountNumber(self):\n",
    "        return self.__account_number\n",
    "\n",
    "user2 = BankAccount(12312,12321)\n",
    "\n",
    "print(user2.getAccountNumber())\n",
    "# print(user2.account_number)"
   ]
  },
  {
   "cell_type": "code",
   "execution_count": 3,
   "id": "6be056c8",
   "metadata": {},
   "outputs": [
    {
     "name": "stdout",
     "output_type": "stream",
     "text": [
      "The person will drive the Pertol car\n"
     ]
    }
   ],
   "source": [
    "class Car:\n",
    "\n",
    "    def __init__(self,windows,doors,enginetype):\n",
    "        self.windows = windows\n",
    "        self.doors = doors\n",
    "        self.enginetype = enginetype\n",
    "\n",
    "\n",
    "    def drive(self):\n",
    "        print(f\"The person will drive the {self.enginetype} car\")\n",
    "\n",
    "\n",
    "\n",
    "\n",
    "car1 = Car(4,5,\"Pertol\")\n",
    "car1.drive()"
   ]
  },
  {
   "cell_type": "code",
   "execution_count": 6,
   "id": "c05b24e1",
   "metadata": {},
   "outputs": [],
   "source": [
    "class Tesla(Car):\n",
    "    def __init__(self,windows,doors,enginetype,isSelfDriving,Price):\n",
    "        super().__init__(windows,doors,enginetype)\n",
    "        self.isSelfDriving = isSelfDriving\n",
    "        self.Price = Price"
   ]
  },
  {
   "cell_type": "code",
   "execution_count": 7,
   "id": "4fdaee0f",
   "metadata": {},
   "outputs": [
    {
     "name": "stdout",
     "output_type": "stream",
     "text": [
      "True\n",
      "1000000\n",
      "4\n"
     ]
    }
   ],
   "source": [
    "car2 = Tesla(3,4,\"petrol\",True,1000000)\n",
    "\n",
    "print(car2.isSelfDriving)\n",
    "print(car2.Price)\n",
    "print(car2.doors)"
   ]
  },
  {
   "cell_type": "code",
   "execution_count": null,
   "id": "c91e9f19",
   "metadata": {},
   "outputs": [],
   "source": []
  }
 ],
 "metadata": {
  "kernelspec": {
   "display_name": "venv",
   "language": "python",
   "name": "python3"
  },
  "language_info": {
   "codemirror_mode": {
    "name": "ipython",
    "version": 3
   },
   "file_extension": ".py",
   "mimetype": "text/x-python",
   "name": "python",
   "nbconvert_exporter": "python",
   "pygments_lexer": "ipython3",
   "version": "3.12.0"
  }
 },
 "nbformat": 4,
 "nbformat_minor": 5
}
