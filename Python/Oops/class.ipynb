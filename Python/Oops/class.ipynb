{
 "cells": [
  {
   "cell_type": "code",
   "execution_count": 3,
   "id": "80f25769",
   "metadata": {},
   "outputs": [
    {
     "name": "stdout",
     "output_type": "stream",
     "text": [
      "0\n"
     ]
    }
   ],
   "source": [
    "class Bank:\n",
    "\n",
    "        def __init__(self,accountHolderName,balance=0):\n",
    "                self.accountHolderName = accountHolderName\n",
    "                self.balance = balance\n",
    "\n",
    "\n",
    "\n",
    "\n",
    "user1 = Bank(\"Gopal\")\n",
    "\n",
    "print(user1.balance)"
   ]
  }
 ],
 "metadata": {
  "kernelspec": {
   "display_name": "venv",
   "language": "python",
   "name": "python3"
  },
  "language_info": {
   "codemirror_mode": {
    "name": "ipython",
    "version": 3
   },
   "file_extension": ".py",
   "mimetype": "text/x-python",
   "name": "python",
   "nbconvert_exporter": "python",
   "pygments_lexer": "ipython3",
   "version": "3.12.0"
  }
 },
 "nbformat": 4,
 "nbformat_minor": 5
}
