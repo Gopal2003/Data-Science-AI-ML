{
 "cells": [
  {
   "cell_type": "code",
   "execution_count": 3,
   "id": "80f25769",
   "metadata": {},
   "outputs": [
    {
     "name": "stdout",
     "output_type": "stream",
     "text": [
      "0\n"
     ]
    }
   ],
   "source": [
    "class Bank:\n",
    "\n",
    "        def __init__(self,accountHolderName,balance=0):\n",
    "                self.accountHolderName = accountHolderName\n",
    "                self.balance = balance\n",
    "\n",
    "\n",
    "\n",
    "\n",
    "user1 = Bank(\"Gopal\")\n",
    "\n",
    "print(user1.balance)"
   ]
  },
  {
   "cell_type": "code",
   "execution_count": null,
   "id": "1321b5af",
   "metadata": {},
   "outputs": [
    {
     "name": "stdout",
     "output_type": "stream",
     "text": [
      "12312\n"
     ]
    },
    {
     "ename": "AttributeError",
     "evalue": "'BankAccount' object has no attribute 'account_number'",
     "output_type": "error",
     "traceback": [
      "\u001b[31m---------------------------------------------------------------------------\u001b[39m",
      "\u001b[31mAttributeError\u001b[39m                            Traceback (most recent call last)",
      "\u001b[36mCell\u001b[39m\u001b[36m \u001b[39m\u001b[32mIn[11]\u001b[39m\u001b[32m, line 14\u001b[39m\n\u001b[32m     11\u001b[39m user2 = BankAccount(\u001b[32m12312\u001b[39m,\u001b[32m12321\u001b[39m)\n\u001b[32m     13\u001b[39m \u001b[38;5;28mprint\u001b[39m(user2.getAccountNumber())\n\u001b[32m---> \u001b[39m\u001b[32m14\u001b[39m \u001b[38;5;28mprint\u001b[39m(\u001b[43muser2\u001b[49m\u001b[43m.\u001b[49m\u001b[43maccount_number\u001b[49m)\n",
      "\u001b[31mAttributeError\u001b[39m: 'BankAccount' object has no attribute 'account_number'"
     ]
    }
   ],
   "source": [
    "class BankAccount:\n",
    "\n",
    "    def __init__(self,__account_number,__balance):\n",
    "        self.__account_number = __account_number\n",
    "        self.__balance = __balance\n",
    "\n",
    "\n",
    "    def getAccountNumber(self):\n",
    "        return self.__account_number\n",
    "\n",
    "user2 = BankAccount(12312,12321)\n",
    "\n",
    "print(user2.getAccountNumber())\n",
    "# print(user2.account_number)"
   ]
  },
  {
   "cell_type": "code",
   "execution_count": 20,
   "id": "6be056c8",
   "metadata": {},
   "outputs": [
    {
     "name": "stdout",
     "output_type": "stream",
     "text": [
      "The person will drive the Pertol car\n",
      "True\n",
      "True\n",
      "True\n"
     ]
    }
   ],
   "source": [
    "class Car:\n",
    "\n",
    "    def __init__(self,windows,doors,enginetype):\n",
    "        self.windows = windows\n",
    "        self.doors = doors\n",
    "        self.enginetype = enginetype\n",
    "\n",
    "\n",
    "    def drive(self):\n",
    "        print(f\"The person will drive the {self.enginetype} car\")\n",
    "\n",
    "\n",
    "\n",
    "\n",
    "car1 = Car(4,5,\"Pertol\")\n",
    "car1.drive()\n",
    "\n",
    "print(isinstance(car1,object))\n",
    "# print(issubclass(Car,type))\n",
    "# print(isinstance(Car,type))\n",
    "# print(issubclass(object,type))\n",
    "# print(issubclass(type,object))\n",
    "# print(isinstance(object,type))\n",
    "\n",
    "# print(isinstance(Car,type))\n",
    "# print(isinstance(object,type))\n",
    "# print(isinstance(type,type))\n",
    "\n",
    "\n",
    "# print(issubclass(Car,object))\n",
    "# print(issubclass(type,object))\n",
    "\n",
    "print(isinstance(Car,type))\n",
    "print(issubclass(type,object))\n"
   ]
  },
  {
   "cell_type": "code",
   "execution_count": 6,
   "id": "c05b24e1",
   "metadata": {},
   "outputs": [],
   "source": [
    "class Tesla(Car):\n",
    "    def __init__(self,windows,doors,enginetype,isSelfDriving,Price):\n",
    "        Car.__init__(self,windows,doors,enginetype)\n",
    "        self.isSelfDriving = isSelfDriving\n",
    "        self.Price = Price"
   ]
  },
  {
   "cell_type": "code",
   "execution_count": 7,
   "id": "4fdaee0f",
   "metadata": {},
   "outputs": [
    {
     "name": "stdout",
     "output_type": "stream",
     "text": [
      "<class '__main__.Tesla'>\n",
      "True\n",
      "1000000\n",
      "4\n"
     ]
    }
   ],
   "source": [
    "car2 = Tesla(3,4,\"petrol\",True,1000000)\n",
    "\n",
    "print(type(car2))\n",
    "\n",
    "\n",
    "print(car2.isSelfDriving)\n",
    "print(car2.Price)\n",
    "print(car2.doors)"
   ]
  },
  {
   "cell_type": "code",
   "execution_count": 1,
   "id": "c91e9f19",
   "metadata": {},
   "outputs": [
    {
     "name": "stdout",
     "output_type": "stream",
     "text": [
      "The Zen of Python, by Tim Peters\n",
      "\n",
      "Beautiful is better than ugly.\n",
      "Explicit is better than implicit.\n",
      "Simple is better than complex.\n",
      "Complex is better than complicated.\n",
      "Flat is better than nested.\n",
      "Sparse is better than dense.\n",
      "Readability counts.\n",
      "Special cases aren't special enough to break the rules.\n",
      "Although practicality beats purity.\n",
      "Errors should never pass silently.\n",
      "Unless explicitly silenced.\n",
      "In the face of ambiguity, refuse the temptation to guess.\n",
      "There should be one-- and preferably only one --obvious way to do it.\n",
      "Although that way may not be obvious at first unless you're Dutch.\n",
      "Now is better than never.\n",
      "Although never is often better than *right* now.\n",
      "If the implementation is hard to explain, it's a bad idea.\n",
      "If the implementation is easy to explain, it may be a good idea.\n",
      "Namespaces are one honking great idea -- let's do more of those!\n"
     ]
    }
   ],
   "source": [
    "import this"
   ]
  },
  {
   "cell_type": "code",
   "execution_count": null,
   "id": "65ee82e8",
   "metadata": {},
   "outputs": [],
   "source": [
    "class Animal:\n",
    "    \n",
    "    def __init__(self,name):\n",
    "        self.name = name\n",
    "\n",
    "class Pet:\n",
    "\n",
    "    def __init__(self,owner):\n",
    "        self.owner = owner\n",
    "\n",
    "\n",
    "class Dog(Animal,Pet):\n",
    "    def __init__(self, word):\n",
    "        super().__init__(word)\n",
    "        # super().__init__(name)\n",
    "\n",
    "        # doubt why super().__init__(name) works why not super().__init__(owner).\n",
    "        # doubt how super() knows that the Animal class __init__ needs to be called.\n",
    "\n",
    "        # Answer : In MRO(Method Resolution Order, Animal is after the class Dog. So, python automatically calls the __init__ of Animal using Super())\n",
    "        # MRO - Dog -> Animal -> Pet -> object.\n"
   ]
  },
  {
   "cell_type": "code",
   "execution_count": 26,
   "id": "e4227d07",
   "metadata": {},
   "outputs": [
    {
     "name": "stdout",
     "output_type": "stream",
     "text": [
      "Charlie\n"
     ]
    }
   ],
   "source": [
    "obj1 = Dog(\"Charlie\")\n",
    "\n",
    "# print(obj1.name)\n",
    "print(obj1.owner)"
   ]
  },
  {
   "cell_type": "code",
   "execution_count": 1,
   "id": "dc84fc16",
   "metadata": {},
   "outputs": [
    {
     "name": "stdout",
     "output_type": "stream",
     "text": [
      "<class 'type'>\n"
     ]
    }
   ],
   "source": [
    "print(type(object))"
   ]
  },
  {
   "cell_type": "code",
   "execution_count": 2,
   "id": "95add58d",
   "metadata": {},
   "outputs": [
    {
     "name": "stdout",
     "output_type": "stream",
     "text": [
      "<class 'type'>\n"
     ]
    }
   ],
   "source": [
    "print(type(type))"
   ]
  },
  {
   "cell_type": "code",
   "execution_count": 12,
   "id": "9cf69c29",
   "metadata": {},
   "outputs": [
    {
     "name": "stdout",
     "output_type": "stream",
     "text": [
      "<class 'abc.ABC'>\n",
      "<class 'object'>\n",
      "True\n",
      "True\n",
      "True\n",
      "True\n",
      "True\n",
      "False\n"
     ]
    }
   ],
   "source": [
    "from abc import ABC, abstractmethod\n",
    "\n",
    "class Animal(ABC):\n",
    "    pass\n",
    "\n",
    "\n",
    "\n",
    "print(Animal.__base__)\n",
    "print(ABC.__base__)\n",
    "print(isinstance(Animal,object))\n",
    "print(issubclass(Animal,object))\n",
    "print(issubclass(ABC,object))\n",
    "print(isinstance(ABC,object))\n",
    "print(isinstance(ABC,type))\n",
    "print(issubclass(ABC,type))\n",
    "# print(abstractmethod.__base__)"
   ]
  },
  {
   "cell_type": "code",
   "execution_count": 35,
   "id": "399429bb",
   "metadata": {},
   "outputs": [
    {
     "ename": "TypeError",
     "evalue": "Dog.speak() takes 0 positional arguments but 1 was given",
     "output_type": "error",
     "traceback": [
      "\u001b[31m---------------------------------------------------------------------------\u001b[39m",
      "\u001b[31mTypeError\u001b[39m                                 Traceback (most recent call last)",
      "\u001b[36mCell\u001b[39m\u001b[36m \u001b[39m\u001b[32mIn[35]\u001b[39m\u001b[32m, line 15\u001b[39m\n\u001b[32m     11\u001b[39m         \u001b[38;5;28;01mreturn\u001b[39;00m \u001b[33m\"\u001b[39m\u001b[33mMeow!\u001b[39m\u001b[33m\"\u001b[39m\n\u001b[32m     14\u001b[39m dog = Dog()\n\u001b[32m---> \u001b[39m\u001b[32m15\u001b[39m \u001b[38;5;28mprint\u001b[39m(\u001b[43mdog\u001b[49m\u001b[43m.\u001b[49m\u001b[43mspeak\u001b[49m\u001b[43m(\u001b[49m\u001b[43m)\u001b[49m)   \u001b[38;5;66;03m# ✅ Woof!\u001b[39;00m\n\u001b[32m     17\u001b[39m animal = Animal()\n\u001b[32m     18\u001b[39m \u001b[38;5;66;03m# print(animal.speak())  # ❌ raises NotImplementedError\u001b[39;00m\n",
      "\u001b[31mTypeError\u001b[39m: Dog.speak() takes 0 positional arguments but 1 was given"
     ]
    }
   ],
   "source": [
    "class Animal:\n",
    "    def speak(self):\n",
    "        raise NotImplementedError(\"Subclass must implement 'speak' method\")\n",
    "\n",
    "class Dog(Animal):\n",
    "    def speak():\n",
    "        pass\n",
    "\n",
    "class Cat(Animal):\n",
    "    def speak(self):\n",
    "        return \"Meow!\"\n",
    "\n",
    "\n",
    "dog = Dog()\n",
    "print(dog.speak())   # ✅ Woof!\n",
    "\n",
    "animal = Animal()\n",
    "# print(animal.speak())  # ❌ raises NotImplementedError\n"
   ]
  },
  {
   "cell_type": "code",
   "execution_count": 31,
   "id": "09ca4963",
   "metadata": {},
   "outputs": [
    {
     "ename": "TypeError",
     "evalue": "Can't instantiate abstract class Dog without an implementation for abstract method 'Sound'",
     "output_type": "error",
     "traceback": [
      "\u001b[31m---------------------------------------------------------------------------\u001b[39m",
      "\u001b[31mTypeError\u001b[39m                                 Traceback (most recent call last)",
      "\u001b[36mCell\u001b[39m\u001b[36m \u001b[39m\u001b[32mIn[31]\u001b[39m\u001b[32m, line 15\u001b[39m\n\u001b[32m     10\u001b[39m \u001b[38;5;28;01mclass\u001b[39;00m\u001b[38;5;250m \u001b[39m\u001b[34;01mDog\u001b[39;00m(Animal):\n\u001b[32m     11\u001b[39m     \u001b[38;5;28;01mpass\u001b[39;00m\n\u001b[32m---> \u001b[39m\u001b[32m15\u001b[39m dog1 = \u001b[43mDog\u001b[49m\u001b[43m(\u001b[49m\u001b[43m)\u001b[49m\n",
      "\u001b[31mTypeError\u001b[39m: Can't instantiate abstract class Dog without an implementation for abstract method 'Sound'"
     ]
    }
   ],
   "source": [
    "from abc import ABC,abstractmethod\n",
    "\n",
    "class Animal(ABC):\n",
    "\n",
    "    @abstractmethod\n",
    "    def Sound():\n",
    "        pass\n",
    "\n",
    "\n",
    "class Dog(Animal):\n",
    "    pass\n",
    "\n",
    "\n",
    "\n",
    "dog1 = Dog()"
   ]
  },
  {
   "cell_type": "code",
   "execution_count": null,
   "id": "910f208d",
   "metadata": {},
   "outputs": [],
   "source": []
  },
  {
   "cell_type": "code",
   "execution_count": null,
   "id": "78310fd2",
   "metadata": {},
   "outputs": [],
   "source": []
  }
 ],
 "metadata": {
  "kernelspec": {
   "display_name": "venv",
   "language": "python",
   "name": "python3"
  },
  "language_info": {
   "codemirror_mode": {
    "name": "ipython",
    "version": 3
   },
   "file_extension": ".py",
   "mimetype": "text/x-python",
   "name": "python",
   "nbconvert_exporter": "python",
   "pygments_lexer": "ipython3",
   "version": "3.12.0"
  }
 },
 "nbformat": 4,
 "nbformat_minor": 5
}
