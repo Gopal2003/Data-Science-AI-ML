{
 "cells": [
  {
   "cell_type": "code",
   "execution_count": 3,
   "id": "8157dcb9",
   "metadata": {},
   "outputs": [
    {
     "name": "stdout",
     "output_type": "stream",
     "text": [
      "<class 'str'>\n",
      "25\n",
      "<class 'int'>\n"
     ]
    }
   ],
   "source": [
    "age = \"25\"\n",
    "print(type(age))\n",
    "age = int(age)\n",
    "print(int(age))\n",
    "print(type(age))"
   ]
  },
  {
   "cell_type": "code",
   "execution_count": 4,
   "id": "5731b580",
   "metadata": {},
   "outputs": [
    {
     "name": "stdout",
     "output_type": "stream",
     "text": [
      "<class 'list'>\n"
     ]
    }
   ],
   "source": [
    "print(type([x ** 2 for x in range(10)]))"
   ]
  },
  {
   "cell_type": "code",
   "execution_count": 8,
   "id": "63286b78",
   "metadata": {},
   "outputs": [
    {
     "name": "stdout",
     "output_type": "stream",
     "text": [
      "[0, 1, 2, 3, 4, 5, 6, 7, 8, 9, 10, 11, 12, 13, 14, 15, 16, 17, 18, 19]\n"
     ]
    }
   ],
   "source": [
    "temp = [x  for x in range(20)]\n",
    "print(temp)"
   ]
  },
  {
   "cell_type": "code",
   "execution_count": null,
   "id": "8a0c677e",
   "metadata": {},
   "outputs": [
    {
     "name": "stdout",
     "output_type": "stream",
     "text": [
      "[(0, 1), (1, 2), (2, 3), (3, 4), (4, 5)]\n"
     ]
    }
   ],
   "source": [
    "temp = [1,2,3,4,5]\n",
    "temp2 = enumerate(temp)\n",
    "\n",
    "print(list(temp2))\n"
   ]
  },
  {
   "cell_type": "code",
   "execution_count": 11,
   "id": "abe37513",
   "metadata": {},
   "outputs": [
    {
     "name": "stdout",
     "output_type": "stream",
     "text": [
      "<class 'tuple'>\n"
     ]
    }
   ],
   "source": [
    "packed_tuple = 1,\"Hello\",\"packed tuple\"\n",
    "\n",
    "print(type(packed_tuple))"
   ]
  },
  {
   "cell_type": "code",
   "execution_count": 17,
   "id": "8ac66138",
   "metadata": {},
   "outputs": [
    {
     "name": "stdout",
     "output_type": "stream",
     "text": [
      "1 2 3 \n",
      "1 Hello 3.14 \n"
     ]
    }
   ],
   "source": [
    "nested_tuple = ((1,2,3), (1,\"Hello\",3.14))\n",
    "\n",
    "for sub_tuple in nested_tuple:\n",
    "    for item in sub_tuple:\n",
    "        print(item,end=\" \")\n",
    "    print()"
   ]
  },
  {
   "cell_type": "code",
   "execution_count": 12,
   "id": "67fdd618",
   "metadata": {},
   "outputs": [
    {
     "name": "stdout",
     "output_type": "stream",
     "text": [
      "name Gopal\n",
      "Age 22\n"
     ]
    }
   ],
   "source": [
    "dict = {\"name\" : \"Gopal\",\"Age\" : 22}\n",
    "\n",
    "# print(dict[\"name\"])\n",
    "# print(dict[\"Age\"])\n",
    "# print(dict.get(\"last_name\",\"Mentioned key is not availabe\"))\n",
    "for key,value in dict.items():\n",
    "    print(key,value)"
   ]
  },
  {
   "cell_type": "code",
   "execution_count": 15,
   "id": "4405b98b",
   "metadata": {},
   "outputs": [
    {
     "name": "stdout",
     "output_type": "stream",
     "text": [
      "{'A': 1, 'B': 2, 'C': 3, 'D': 4}\n"
     ]
    }
   ],
   "source": [
    "dict_1 = {\"A\":1,\"B\" : 2}\n",
    "dict_2 = {\"C\" : 3, \"D\" : 4}\n",
    "\n",
    "merged_dict = {**dict_1,**dict_2}\n",
    "print(merged_dict)"
   ]
  },
  {
   "cell_type": "code",
   "execution_count": 5,
   "id": "749a252f",
   "metadata": {},
   "outputs": [
    {
     "name": "stdout",
     "output_type": "stream",
     "text": [
      "1 2 3 4 5 Gopal "
     ]
    }
   ],
   "source": [
    "def print_number(*args):\n",
    "    for num in args:\n",
    "        print(num,end=\" \")\n",
    "\n",
    "\n",
    "print_number(1,2,3,4,5,\"Gopal\")"
   ]
  },
  {
   "cell_type": "code",
   "execution_count": 10,
   "id": "bc5dc49c",
   "metadata": {},
   "outputs": [
    {
     "name": "stdout",
     "output_type": "stream",
     "text": [
      "<class 'dict_items'>\n"
     ]
    }
   ],
   "source": [
    "def print_number(**kwargs):\n",
    "    print(type(kwargs.items()))\n",
    "\n",
    "\n",
    "\n",
    "print_number(name=\"Gopal\",age=\"22\",city=\"Tandur\")"
   ]
  },
  {
   "cell_type": "code",
   "execution_count": null,
   "id": "5b19af8d",
   "metadata": {},
   "outputs": [
    {
     "name": "stdout",
     "output_type": "stream",
     "text": [
      "[0, 1, 2, 3, 4]\n"
     ]
    }
   ],
   "source": [
    "print(temp[:5])\n"
   ]
  }
 ],
 "metadata": {
  "kernelspec": {
   "display_name": "venv",
   "language": "python",
   "name": "python3"
  },
  "language_info": {
   "codemirror_mode": {
    "name": "ipython",
    "version": 3
   },
   "file_extension": ".py",
   "mimetype": "text/x-python",
   "name": "python",
   "nbconvert_exporter": "python",
   "pygments_lexer": "ipython3",
   "version": "3.12.0"
  }
 },
 "nbformat": 4,
 "nbformat_minor": 5
}
