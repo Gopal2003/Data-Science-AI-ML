{
 "cells": [
  {
   "cell_type": "code",
   "execution_count": 3,
   "id": "c5314a3f",
   "metadata": {},
   "outputs": [
    {
     "name": "stdout",
     "output_type": "stream",
     "text": [
      "Hello this is devil\n",
      "Started learning the data science and Ml from udemy\n",
      "And taken the outh to finish it\n",
      "\n",
      "\n"
     ]
    }
   ],
   "source": [
    "with open('example.txt','r') as file:\n",
    "    content = file.read()\n",
    "    print(content)"
   ]
  },
  {
   "cell_type": "code",
   "execution_count": 5,
   "id": "6fae3617",
   "metadata": {},
   "outputs": [],
   "source": [
    "with open('example.txt','w') as file:\n",
    "    file.write(\"Over writing the whole content intentionally\")\n",
    "   "
   ]
  },
  {
   "cell_type": "code",
   "execution_count": 7,
   "id": "add49b8b",
   "metadata": {},
   "outputs": [],
   "source": [
    "with open('example.txt','a') as file:\n",
    "    file.write(\"\\n Appending the content using the a mode\")"
   ]
  },
  {
   "cell_type": "code",
   "execution_count": 8,
   "id": "e9f9a357",
   "metadata": {},
   "outputs": [],
   "source": [
    "with open('example.txt','r') as source_file:\n",
    "    content = source_file.read()\n",
    "\n",
    "with open('destination.txt','w') as destination_file:\n",
    "    destination_file.write(content)"
   ]
  },
  {
   "cell_type": "code",
   "execution_count": 9,
   "id": "2aeca937",
   "metadata": {},
   "outputs": [
    {
     "name": "stdout",
     "output_type": "stream",
     "text": [
      "False\n"
     ]
    }
   ],
   "source": [
    "if 10 > 5:\n",
    "    result = 10 > 5\n",
    "\n",
    "if 20 < 30:\n",
    "    retult = False\n",
    "\n",
    "\n",
    "print(retult)"
   ]
  },
  {
   "cell_type": "code",
   "execution_count": 7,
   "id": "06f948ba",
   "metadata": {},
   "outputs": [
    {
     "name": "stdout",
     "output_type": "stream",
     "text": [
      "Line Count 2 \n",
      " Word Count 19 \n",
      " Charcter Count 103\n"
     ]
    }
   ],
   "source": [
    "with open('example.txt','r') as file:\n",
    "\n",
    "    line_count = 0\n",
    "    word_count = 0\n",
    "    character_count = 0\n",
    "    for line in file:\n",
    "       line_count += 1\n",
    "       words = line.split()\n",
    "       for word in words:\n",
    "           word_count += 1\n",
    "           for character in word:\n",
    "               character_count += 1\n",
    "\n",
    "\n",
    "\n",
    "print(f\"Line Count {line_count} \\n Word Count {word_count} \\n Charcter Count {character_count}\")\n",
    "\n",
    "    "
   ]
  },
  {
   "cell_type": "code",
   "execution_count": 12,
   "id": "04452c86",
   "metadata": {},
   "outputs": [
    {
     "name": "stdout",
     "output_type": "stream",
     "text": [
      "Line Count 2 \n",
      " Word Count 19 \n",
      " Charcter Count 122\n"
     ]
    }
   ],
   "source": [
    "def count_text_files(file_path):\n",
    "    with open(file_path,'r') as file:\n",
    "        lines = file.readlines() # Returns list\n",
    "        line_count = len(lines)\n",
    "        word_count = sum(len(line.split()) for line in lines)\n",
    "        character_count = sum(len(line) for line in lines)\n",
    "    \n",
    "    return line_count,word_count,character_count\n",
    "\n",
    "\n",
    "file_path = 'example.txt'\n",
    "line_count,word_count,character_count = count_text_files(file_path)\n",
    "print(f\"Line Count {line_count} \\n Word Count {word_count} \\n Charcter Count {character_count}\")"
   ]
  },
  {
   "cell_type": "code",
   "execution_count": null,
   "id": "a23e0a96",
   "metadata": {},
   "outputs": [],
   "source": [
    " "
   ]
  },
  {
   "cell_type": "code",
   "execution_count": null,
   "id": "6b04a3cf",
   "metadata": {},
   "outputs": [],
   "source": []
  },
  {
   "cell_type": "code",
   "execution_count": null,
   "id": "10ece883",
   "metadata": {},
   "outputs": [],
   "source": []
  },
  {
   "cell_type": "code",
   "execution_count": null,
   "id": "8a329b7d",
   "metadata": {},
   "outputs": [],
   "source": []
  },
  {
   "cell_type": "code",
   "execution_count": null,
   "id": "1a64108f",
   "metadata": {},
   "outputs": [],
   "source": []
  }
 ],
 "metadata": {
  "kernelspec": {
   "display_name": "venv",
   "language": "python",
   "name": "python3"
  },
  "language_info": {
   "codemirror_mode": {
    "name": "ipython",
    "version": 3
   },
   "file_extension": ".py",
   "mimetype": "text/x-python",
   "name": "python",
   "nbconvert_exporter": "python",
   "pygments_lexer": "ipython3",
   "version": "3.12.0"
  }
 },
 "nbformat": 4,
 "nbformat_minor": 5
}
